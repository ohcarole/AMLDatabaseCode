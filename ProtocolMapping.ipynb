{
 "cells": [
  {
   "cell_type": "code",
   "execution_count": null,
   "metadata": {
    "collapsed": false
   },
   "outputs": [],
   "source": [
    "allitem = []\n",
    "    allitem.extend([['SORA', 'SORA'   ,   'sorafenib']])\n",
    "    allitem.extend([['GO'  , '[+].?GO',   'gemtuzumab ozogamicin']])\n",
    "    allitem.extend([['VP16', '[+].?VP16', 'etoposide']])\n",
    "    allitem.extend([['VP',   '[+].?VP',   'vincristine']])\n",
    "    print(allitem)\n",
    "    for i,j,k in allitem:\n",
    "        print i, j, k"
   ]
  },
  {
   "cell_type": "code",
   "execution_count": 4,
   "metadata": {
    "collapsed": false
   },
   "outputs": [
    {
     "name": "stdout",
     "output_type": "stream",
     "text": [
      "UPDATE protocollist SET mapto = CASE \n",
      "        WHEN protocol = \"IGN\" THEN CONCAT(mapto,\",IGN-523\") WHEN protocol = \"[^0-9]13049[^0-9]\" THEN CONCAT(mapto,\",IGN-523 (UW13049)\") WHEN protocol = \"PR104\" THEN CONCAT(mapto,\",PR104\") WHEN protocol = \"FLX\" THEN CONCAT(mapto,\",FLX925\") WHEN protocol = \"[^0-9]15067[^0-9]\" THEN CONCAT(mapto,\",FLX925\") WHEN protocol = \"MEK\" THEN CONCAT(mapto,\",MEK INHIBITOR\") WHEN protocol = \"[^0-9]2466[^0-9]\" THEN CONCAT(mapto,\",MEK INHIBITOR\") WHEN protocol = \"[^0-9]2498[^0-9]\" THEN CONCAT(mapto,\",CD8+ T Cells (2498)\") WHEN protocol = \"[^0-9]2246[^0-9]\" THEN CONCAT(mapto,\",SB1518 (2246)\") WHEN protocol = \"[^0-9]2513[^0-9]\" THEN CONCAT(mapto,\",CWP (2513)\") WHEN protocol = \"[^0-9]2534[^0-9]\" THEN CONCAT(mapto,\",ON 01910.Na (2534)\") WHEN protocol = \"[^0-9]2572[^0-9]\" THEN CONCAT(mapto,\",AC-225 (2572)\") WHEN protocol = \"[^0-9]2532[^0-9]\" THEN CONCAT(mapto,\",PLX3397 (2532)\") WHEN protocol = \"[^0-9]7971[^0-9]\" THEN CONCAT(mapto,\",GO (7971)\") WHEN protocol = \" GO \" THEN CONCAT(mapto,\",GO (7971)\") WHEN protocol = \" SORA \" THEN CONCAT(mapto,\",SORA\") WHEN protocol = \" SORAFINIB \" THEN CONCAT(mapto,\",SORA\") WHEN protocol = \" LENALIDOMIDE \" THEN CONCAT(mapto,\",LENALIDOMIDE\") WHEN protocol = \" ATRA \" THEN CONCAT(mapto,\",ATRA\") WHEN protocol = \" HU \" THEN CONCAT(mapto,\",HU\") WHEN protocol = \" CLADRABINE \" THEN CONCAT(mapto,\",CLADRABINE\") WHEN protocol = \" CLOFARABINE \" THEN CONCAT(mapto,\",CLOFARABINE\") WHEN protocol = \" DACOGEN \" THEN CONCAT(mapto,\",DECI\") WHEN protocol = \" IDARUBICIN \" THEN CONCAT(mapto,\",IDARUBICIN\") WHEN protocol = \" NALARABINE \" THEN CONCAT(mapto,\",NALARABINE\") WHEN protocol = \" REVLAMID \" THEN CONCAT(mapto,\",REVLAMID\") WHEN protocol = \" TEMOZOLOMIDE \" THEN CONCAT(mapto,\",TEMOZOLOMIDE\") WHEN protocol = \" IBURTINIB \" THEN CONCAT(mapto,\",IBRUTINIB\") WHEN protocol = \" IBRUTINIB \" THEN CONCAT(mapto,\",IBRUTINIB\") WHEN protocol = \" BORTEZOMIB \" THEN CONCAT(mapto,\",BORTEZOMIB\") WHEN protocol = \" PRALATREXATE \" THEN CONCAT(mapto,\",PRALATREXATE\") WHEN protocol = \" WIS \" THEN CONCAT(mapto,\",WIS\") WHEN protocol = \" OSTEOK \" THEN CONCAT(mapto,\",OSTEOK\") WHEN protocol = \" CEP701 \" THEN CONCAT(mapto,\",CEP701\") WHEN protocol = \" DACTINOMYCIN \" THEN CONCAT(mapto,\",DACTINOMYCIN\") WHEN protocol = \" ACT-D \" THEN CONCAT(mapto,\",DACTINOMYCIN\") WHEN protocol = \" IT MTX \" THEN CONCAT(mapto,\",IT MTX\") \n",
      "    ELSE mapto\n",
      "END;\n",
      "\n"
     ]
    }
   ],
   "source": [
    "druglist =[['IGN'               ,   'IGN-523'              ,   'IGN-523 (UW13049) -- Study druglist:  IGN-523' ]]\n",
    "    druglist.extend([['[^0-9]13049[^0-9]' ,   'IGN-523 (UW13049)'    ,   'IGN-523 (UW13049) -- Study druglist:  IGN-523' ]])\n",
    "    druglist.extend([['PR104'             ,   'PR104'                ,   'PR104 -- Study druglist:  PR104'               ]])\n",
    "    druglist.extend([['FLX'               ,   'FLX925'               ,   'FLX925'                                    ]])\n",
    "    druglist.extend([['[^0-9]15067[^0-9]' ,   'FLX925'               ,   'FLX925'                                    ]])\n",
    "    druglist.extend([['MEK'               ,   'MEK INHIBITOR'        ,   'MK-2206 (2466)'                            ]])\n",
    "    druglist.extend([['[^0-9]2466[^0-9]'  ,   'MEK INHIBITOR'        ,   'MK-2206 (2466)'                            ]])\n",
    "    druglist.extend([['[^0-9]2498[^0-9]'  ,   'CD8+ T Cells (2498)'  ,   'CD8+ T Cells (2498)'                       ]])\n",
    "    druglist.extend([['[^0-9]2246[^0-9]'  ,   'SB1518 (2246)'        ,   'SB1518 (2246)'                             ]])\n",
    "    druglist.extend([['[^0-9]2513[^0-9]'  ,   'CWP (2513)'           ,   'CWP (2513)'                                ]])\n",
    "    druglist.extend([['[^0-9]2534[^0-9]'  ,   'ON 01910.Na (2534)'   ,   'ON 01910.Na (2534)'                        ]])\n",
    "    druglist.extend([['[^0-9]2572[^0-9]'  ,   'AC-225 (2572)'        ,   'AC-225 (2572)'                             ]])\n",
    "    druglist.extend([['[^0-9]2532[^0-9]'  ,   'PLX3397 (2532)'       ,   'PLX3397 (2532)'                            ]])\n",
    "    druglist.extend([['[^0-9]7971[^0-9]'  ,   'GO (7971)'            ,   'GO (7971)'                                 ]])\n",
    "    druglist.extend([[' GO '              ,   'GO (7971)'            ,   'GO (7971)'                                 ]])\n",
    "    druglist.extend([[' SORA '            ,   'SORA'                 ,   'SORA'                                      ]])\n",
    "    druglist.extend([[' SORAFINIB '       ,   'SORA'                 ,   'SORA'                                      ]])\n",
    "    druglist.extend([[' LENALIDOMIDE '    ,   'LENALIDOMIDE'         ,   'LENALIDOMIDE'                              ]])\n",
    "    druglist.extend([[' ATRA '            ,   'ATRA'                 ,   'ATRA'                                      ]])\n",
    "    druglist.extend([[' HU '              ,   'HU'                   ,   'HU'                                        ]])\n",
    "    druglist.extend([[' CLADRABINE '      ,   'CLADRABINE'           ,   'CLADRABINE'                                ]])\n",
    "    druglist.extend([[' CLOFARABINE '     ,   'CLOFARABINE'          ,   'CLOFARABINE'                               ]])\n",
    "    druglist.extend([[' DACOGEN '         ,   'DECI'                 ,   'DECI'                                      ]])\n",
    "    druglist.extend([[' IDARUBICIN '      ,   'IDARUBICIN'           ,   'IDARUBICIN'                                ]])\n",
    "    druglist.extend([[' NALARABINE '      ,   'NALARABINE'           ,   'NALARABINE'                                ]])\n",
    "    druglist.extend([[' REVLAMID '        ,   'REVLAMID'             ,   'REVLAMID'                                  ]])\n",
    "    druglist.extend([[' TEMOZOLOMIDE '    ,   'TEMOZOLOMIDE'         ,   'TEMOZOLOMIDE'                              ]])\n",
    "    druglist.extend([[' IBURTINIB '       ,   'IBRUTINIB'            ,   'IBRUTINIB'                                 ]])\n",
    "    druglist.extend([[' IBRUTINIB '       ,   'IBRUTINIB'            ,   'IBRUTINIB'                                 ]])\n",
    "    druglist.extend([[' BORTEZOMIB '      ,   'BORTEZOMIB'           ,   'BORTEZOMIB'                                ]])\n",
    "    druglist.extend([[' PRALATREXATE '    ,   'PRALATREXATE'          ,   'PRALATREXATE'                              ]])\n",
    "    druglist.extend([[' WIS '             ,   'WIS'                  ,   'WIS -- withdrawl of immunosuppression'     ]])\n",
    "    druglist.extend([[' OSTEOK '          ,   'OSTEOK'               ,   'OSTEOK'                                    ]])\n",
    "    druglist.extend([[' CEP701 '          ,   'CEP701'               ,   'CEP701 -- lestaurtinib'                    ]])\n",
    "    druglist.extend([[' DACTINOMYCIN '    ,   'DACTINOMYCIN'         ,   'DACTINOMYCIN'                              ]])\n",
    "    druglist.extend([[' ACT-D '           ,   'DACTINOMYCIN'         ,   'DACTINOMYCIN'                              ]])\n",
    "    druglist.extend([[' IT MTX '          ,   'IT MTX'               ,   'IT MTX'                                    ]])\n",
    "\n",
    "    casestmt =''\n",
    "    \n",
    "    for pat,drug,desc in druglist:\n",
    "        casestmt = casestmt + 'WHEN protocol = \"{0}\" THEN CONCAT(mapto,\",{1}\") '.format(pat,drug)\n",
    "    \n",
    "    sql = \"\"\"UPDATE protocollist SET mapto = CASE \n",
    "            {0}\n",
    "        ELSE mapto\n",
    "    END;\n",
    "    \"\"\".format(casestmt)\n",
    "    \n",
    "    print sql"
   ]
  },
  {
   "cell_type": "code",
   "execution_count": null,
   "metadata": {
    "collapsed": true
   },
   "outputs": [],
   "source": [
    ""
   ]
  }
 ],
 "metadata": {
  "kernelspec": {
   "display_name": "Python 2",
   "language": "python",
   "name": "python2"
  },
  "language_info": {
   "codemirror_mode": {
    "name": "ipython",
    "version": 2.0
   },
   "file_extension": ".py",
   "mimetype": "text/x-python",
   "name": "python",
   "nbconvert_exporter": "python",
   "pygments_lexer": "ipython2",
   "version": "2.7.13"
  }
 },
 "nbformat": 4,
 "nbformat_minor": 0
}